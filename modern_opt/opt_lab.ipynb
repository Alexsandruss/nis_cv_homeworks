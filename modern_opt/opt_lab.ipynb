{
 "cells": [
  {
   "cell_type": "code",
   "execution_count": 1,
   "metadata": {
    "colab": {
     "base_uri": "https://localhost:8080/",
     "height": 34
    },
    "id": "eEGdYzlU4SmG",
    "outputId": "da84523f-196c-435e-d0d7-0a7431d5d650"
   },
   "outputs": [
    {
     "name": "stdout",
     "output_type": "stream",
     "text": [
      "Populating the interactive namespace from numpy and matplotlib\n"
     ]
    }
   ],
   "source": [
    "import numpy as np\n",
    "import networkx as nx\n",
    "from collections import defaultdict\n",
    "import time\n",
    "\n",
    "%matplotlib notebook\n",
    "import matplotlib.pyplot as plt\n",
    "%pylab inline"
   ]
  },
  {
   "cell_type": "code",
   "execution_count": 2,
   "metadata": {},
   "outputs": [],
   "source": [
    "import sys\n",
    "sys.setrecursionlimit(10 ** 5)"
   ]
  },
  {
   "cell_type": "markdown",
   "metadata": {
    "id": "sD1wC1Wc4YHf"
   },
   "source": [
    "## Генераторы графов"
   ]
  },
  {
   "cell_type": "code",
   "execution_count": 3,
   "metadata": {
    "id": "grFeMbi25Zi3"
   },
   "outputs": [],
   "source": [
    "# функция возвращает случайный простой граф в моделе Gnp \n",
    "# вероятность ребра p = 2*m/(n*(n-1)), чтобы среденее число ребер было = m\n",
    "# структура хранения - список смежности, реализованный через словарь (хеш-таблица) списков \n",
    "# ребра представляют собой tuple двух вершин\n",
    "def get_random_simple_Gnp_graph(n, m, seed=42):\n",
    "    edge_p = 2*m/(n*(n-1))\n",
    "    g = nx.random_graphs.fast_gnp_random_graph(n,edge_p,seed)\n",
    "\n",
    "    return nx.convert.to_dict_of_lists(g)"
   ]
  },
  {
   "cell_type": "code",
   "execution_count": 4,
   "metadata": {
    "id": "RT_M3XlFLMnS"
   },
   "outputs": [],
   "source": [
    "# функция возвращает случайный простой граф в моделе Gnm \n",
    "# структура хранения - список смежности, реализованный через словарь (хеш-таблица) списков \n",
    "# ребра представляют собой tuple двух вершин\n",
    "def get_random_simple_Gnm_graph(n, m, seed=42):\n",
    "    g = nx.random_graphs.gnm_random_graph(n,m,seed)\n",
    "\n",
    "    return nx.convert.to_dict_of_lists(g)"
   ]
  },
  {
   "cell_type": "markdown",
   "metadata": {
    "id": "iVqQjVxgfnzk"
   },
   "source": [
    "# Алгоритмы сортировки"
   ]
  },
  {
   "cell_type": "code",
   "execution_count": 5,
   "metadata": {},
   "outputs": [],
   "source": [
    "# поразрядная, карманная и быстрая сортировки\n",
    "# возвращают итоговую перестановку эелементов массива A\n",
    "# для того, чтобы можно было переставить элементы в любом другом массиве\n",
    "\n",
    "# С++ имплементации из pybind11 обертки\n",
    "from sortings import radix_argsort, bucket_argsort, quick_argsort"
   ]
  },
  {
   "cell_type": "markdown",
   "metadata": {
    "id": "-2qavQiBBFv7"
   },
   "source": [
    "# Алгоритмы для поиска мостов"
   ]
  },
  {
   "cell_type": "code",
   "execution_count": 6,
   "metadata": {
    "id": "3CssyQPh_L2i"
   },
   "outputs": [],
   "source": [
    "def get_edge_name(a, b):\n",
    "        if a > b:\n",
    "            return (b, a)\n",
    "        else:\n",
    "            return (a, b)\n",
    "\n",
    "# детерминированный алгоритм для поиска мостов\n",
    "# на вход поступает граф представленный списком смежности\n",
    "# саписок представлен как словарь(хеш-таблица) списков\n",
    "# выход представляет собой список ребер, являющихся мостами \n",
    "def compute_bridges_determ(adj_list):\n",
    "    global color, tst, metric, counter, bridges\n",
    "    n = len(adj_list)\n",
    "    color = np.zeros(shape=(n,), dtype=bool)\n",
    "    counter = 1\n",
    "    tst = np.empty(shape=(n,), dtype=np.int32)\n",
    "    metric = np.empty(shape=(n,), dtype=np.int32)\n",
    "    bridges = []\n",
    "\n",
    "    def dfs(v, p=-1):\n",
    "        global color, tst, metric, counter, bridges\n",
    "        color[v] = True\n",
    "        tst[v] = counter\n",
    "        metric[v] = tst[v]\n",
    "        counter += 1\n",
    "        for u in adj_list[v]:\n",
    "            if (u == p):\n",
    "                continue\n",
    "            if color[u]:\n",
    "                metric[v] = min([metric[v], tst[u]])\n",
    "            else:\n",
    "                dfs(u, v)\n",
    "                metric[v] = min([metric[v], metric[u]])\n",
    "                if (metric[u] > tst[v]):\n",
    "                    bridges.append(get_edge_name(v, u))\n",
    "    \n",
    "    for i in range(n):\n",
    "        if not color[i]:\n",
    "            dfs(i)\n",
    "    \n",
    "    return bridges"
   ]
  },
  {
   "cell_type": "code",
   "execution_count": 7,
   "metadata": {},
   "outputs": [],
   "source": [
    "# pybind11 extension with C++ functions\n",
    "from random_bits import get_random_numbers, cxor"
   ]
  },
  {
   "cell_type": "code",
   "execution_count": 8,
   "metadata": {},
   "outputs": [],
   "source": [
    "from timeit import default_timer as timer"
   ]
  },
  {
   "cell_type": "code",
   "execution_count": 9,
   "metadata": {},
   "outputs": [],
   "source": [
    "def compute_edge_values(adj):\n",
    "    global color, solved_vertices\n",
    "\n",
    "    if isinstance(adj, nx.classes.graph.Graph):\n",
    "        adj_list = nx.convert.to_dict_of_lists(adj)\n",
    "    else:\n",
    "        adj_list = adj\n",
    "    \n",
    "    edges_dict = {}\n",
    "    for v in adj_list:\n",
    "        for u in adj_list[v]:\n",
    "            edges_dict[get_edge_name(u, v)] = False\n",
    "    \n",
    "    \n",
    "    n = len(adj_list)\n",
    "    color = np.zeros(shape=(n,), dtype=bool)\n",
    "    \n",
    "    def dfs(v, p=-1):\n",
    "        global color\n",
    "        color[v] = True\n",
    "        for u in adj_list[v]:\n",
    "            if (u == p):\n",
    "                continue\n",
    "            if not color[u]:\n",
    "                edges_dict[get_edge_name(u, v)] = True\n",
    "                dfs(u, v)\n",
    "    \n",
    "    for i in range(n):\n",
    "        if not color[i]:\n",
    "            dfs(i)\n",
    "    \n",
    "    n_random = 0\n",
    "    for uv in edges_dict:\n",
    "        if not edges_dict[uv]:\n",
    "            n_random += 1\n",
    "    random_numbers = get_random_numbers(n_random)\n",
    "    \n",
    "    i_random = 0\n",
    "    edge_nums = {}\n",
    "    for uv in edges_dict:\n",
    "        if not edges_dict[uv]:\n",
    "            edge_nums[uv] = random_numbers[i_random]\n",
    "            i_random += 1\n",
    "    \n",
    "    solved_vertices = np.zeros(shape=(n,), dtype=bool)\n",
    "    \n",
    "    def solve(v):\n",
    "        global solved_vertices\n",
    "        \n",
    "        if solved_vertices[v]:\n",
    "            return\n",
    "        x_counter = 0\n",
    "        x_edge = None\n",
    "        for u in adj_list[v]:\n",
    "            if edges_dict[get_edge_name(u, v)]:\n",
    "                x_counter += 1\n",
    "                if x_counter > 1:\n",
    "                    break\n",
    "                x_edge = get_edge_name(u, v)\n",
    "        if x_counter > 1 or x_counter == 0:\n",
    "            return\n",
    "        prev_uint = 0\n",
    "        for u in adj_list[v]:\n",
    "            if not edges_dict[get_edge_name(u, v)]:\n",
    "                prev_uint = cxor(prev_uint, edge_nums[get_edge_name(u, v)])\n",
    "        edges_dict[x_edge] = False\n",
    "        edge_nums[x_edge] = prev_uint\n",
    "        solved_vertices[v] = True\n",
    "        for u in adj_list[v]:\n",
    "            if not solved_vertices[u]:\n",
    "                solve(u)\n",
    "    \n",
    "    for v in adj_list:\n",
    "        solve(v)\n",
    "\n",
    "    return edge_nums"
   ]
  },
  {
   "cell_type": "code",
   "execution_count": 10,
   "metadata": {
    "id": "bwuVGx16C0J6"
   },
   "outputs": [],
   "source": [
    "# рандомизированный алгоритм для поиска мостов\n",
    "# на вход поступает граф представленный списком смежности\n",
    "# саписок представлен как словарь(хеш-таблица) списков \n",
    "# выход представляет собой список ребер, являющихся мостами с большой вероятностью\n",
    "def compute_bridges_rand(adj_list):\n",
    "    edge_nums = compute_edge_values(adj_list)\n",
    "    \n",
    "    bridges = []\n",
    "    for uv in edge_nums:\n",
    "        if edge_nums[uv] == 0:\n",
    "            bridges.append(uv)\n",
    "    return bridges"
   ]
  },
  {
   "cell_type": "code",
   "execution_count": 11,
   "metadata": {
    "id": "Bimj4itwJ0NR"
   },
   "outputs": [],
   "source": [
    "# рандомизированный алгоритм для поиска 2-мостов\n",
    "#\n",
    "# на вход поступает граф представленный списком смежности и алгоритм сортировки для меток на ребрах\n",
    "# саписок представлен как словарь(хеш-таблица) списков \n",
    "#\n",
    "# выходом алгоритма является список списков ребер\n",
    "# в каждом списке любая пара ребер должна с высокой вероятностью образовывать 2-мост\n",
    "# например, если выходом является спискок [[e1, e2, e3],[e4, e5]]\n",
    "# то с высокой вероятностью 2-мостами будут пары ребер: (e1,e2), (e1,e3), (e2,e3), (e4,e5)\n",
    "# ребра здесь это пары вершин типа e1 = (1,2)\n",
    "def compute_2bridges_rand(adj_list, sort_fun):\n",
    "    edge_nums = compute_edge_values(adj_list)\n",
    "    if len(edge_nums) == 0:\n",
    "        return []\n",
    "    edges_list = list(edge_nums.keys())\n",
    "    \n",
    "    edge_values = list(edge_nums.values())\n",
    "    idx = sort_fun(edge_values)\n",
    "    sorted_edge_values = list(np.array(edge_values, dtype=np.uint64)[idx])\n",
    "    \n",
    "    two_bridges = []\n",
    "    current_values = [sorted_edge_values[0], ]\n",
    "    current_idx = [idx[0], ]\n",
    "    for i in range(1, len(idx)):\n",
    "        if sorted_edge_values[i] == current_values[-1]:\n",
    "            current_values.append(sorted_edge_values[i])\n",
    "            current_idx.append(idx[i])\n",
    "        else:\n",
    "            if len(current_values) != 1:\n",
    "                two_bridges.append([])\n",
    "                for k in current_idx:\n",
    "                    two_bridges[-1].append(edges_list[k])\n",
    "            current_values, current_idx = [sorted_edge_values[i], ], [idx[i], ]\n",
    "    return two_bridges"
   ]
  },
  {
   "cell_type": "markdown",
   "metadata": {
    "id": "cC_5grG8GX1k"
   },
   "source": [
    "# Стресс тесты"
   ]
  },
  {
   "cell_type": "code",
   "execution_count": 12,
   "metadata": {
    "id": "M2uTC7okGdcs"
   },
   "outputs": [],
   "source": [
    "def stress_test_bridges_determ(n, m, iterations_num=1000):\n",
    "  for i in range(iterations_num):\n",
    "    G = get_random_simple_Gnp_graph(n, m, i)\n",
    "    briges_test = compute_bridges_determ(G)\n",
    "    bridges_true = set(nx.algorithms.bridges(nx.Graph(G)))\n",
    "    diff = list(bridges_true.symmetric_difference(briges_test))\n",
    "    if len(diff) > 0:\n",
    "      raise Exception(f\"Неверное решение в детерминированном алгоритме поиска мостов, n: {n}, m: {m}, seed: {i}\")\n",
    "  print(f\"Стресс тест для детерминированного поиска мостов пройден!, n: {n}, m: {m}, iterations_num: {iterations_num}\")\n",
    "    "
   ]
  },
  {
   "cell_type": "code",
   "execution_count": 13,
   "metadata": {
    "id": "GZL4RLYiPAds"
   },
   "outputs": [],
   "source": [
    "def stress_test_bridges_rand(n, m, iterations_num=1000):\n",
    "  exp_err = m * (1/ (2**64))\n",
    "  for i in range(iterations_num):\n",
    "    G = get_random_simple_Gnp_graph(n, m, i)\n",
    "    briges_test = compute_bridges_rand(G)\n",
    "    bridges_true = set(nx.algorithms.bridges(nx.Graph(G)))\n",
    "    diff = list(bridges_true.symmetric_difference(briges_test))\n",
    "    if len(diff) > exp_err:\n",
    "      raise Exception(f\"Число ошибок в рандомизированном алгоритме поиска мостов превышено, n: {n}, m: {m}, errors_num: {len(diff)}, seed: {i}\")\n",
    "  print(f\"Стресс тест для рандомизированного поиска мостов пройден!, n: {n}, m: {m}, iterations_num: {iterations_num}\")\n",
    "    "
   ]
  },
  {
   "cell_type": "code",
   "execution_count": 14,
   "metadata": {
    "id": "fwa1LtushrLG"
   },
   "outputs": [],
   "source": [
    "def stress_test_2bridges_rand(n, m, sort, iterations_num=1000):\n",
    "  exp_err = (m*(m-1)/2) * (1/ (2**64))\n",
    "  for iteration in range(iterations_num):\n",
    "    err_num = 0\n",
    "    G = nx.Graph(get_random_simple_Gnp_graph(n, m, iteration))\n",
    "    bridges_test = compute_2bridges_rand(G,sort)\n",
    "    for edge_group in bridges_test:\n",
    "      for e1 in range(len(edge_group)):\n",
    "        for e2 in range(e1+1,len(edge_group)):\n",
    "          G_with_deleted_2bridge = G.copy()\n",
    "          G_with_deleted_2bridge.remove_edge(*edge_group[e1])\n",
    "          G_with_deleted_2bridge.remove_edge(*edge_group[e2])\n",
    "          if nx.connected.number_connected_components(G) == nx.connected.number_connected_components(G_with_deleted_2bridge):\n",
    "            ++err_num\n",
    "    if err_num > exp_err:\n",
    "      raise Exception(f\"Число ошибок в рандомизированном алгоритме поиска мостов превышено, n: {n}, m: {m}, errors_num: {err_num}, sort: {sort}, seed: {iteration}\")\n",
    "  print(f\"Стресс тест для рандомизированного поиска мостов пройден!, n: {n}, m: {m}, , sort: {sort}, iterations_num: {iterations_num}\")"
   ]
  },
  {
   "cell_type": "code",
   "execution_count": 16,
   "metadata": {
    "colab": {
     "base_uri": "https://localhost:8080/",
     "height": 138
    },
    "id": "uJvi4ayZbheW",
    "outputId": "d7e5efb2-6d92-4901-fe6a-1960358c00ee"
   },
   "outputs": [
    {
     "name": "stdout",
     "output_type": "stream",
     "text": [
      "Стресс тест для детерминированного поиска мостов пройден!, n: 1000, m: 500, iterations_num: 100\n",
      "Стресс тест для рандомизированного поиска мостов пройден!, n: 1000, m: 500, iterations_num: 100\n",
      "Стресс тест для рандомизированного поиска мостов пройден!, n: 250, m: 50, , sort: <built-in method radix_argsort of PyCapsule object at 0x7fb9a1027180>, iterations_num: 100\n",
      "Стресс тест для рандомизированного поиска мостов пройден!, n: 250, m: 50, , sort: <built-in method bucket_argsort of PyCapsule object at 0x7fb9a1027780>, iterations_num: 100\n",
      "Стресс тест для рандомизированного поиска мостов пройден!, n: 250, m: 50, , sort: <built-in method quick_argsort of PyCapsule object at 0x7fb9a1027750>, iterations_num: 100\n"
     ]
    }
   ],
   "source": [
    "stress_test_bridges_determ(1000, 500, 100)\n",
    "stress_test_bridges_rand(1000, 500, 100)\n",
    "stress_test_2bridges_rand(250, 50, radix_argsort, 100)\n",
    "stress_test_2bridges_rand(250, 50, bucket_argsort, 100)\n",
    "stress_test_2bridges_rand(250, 50, quick_argsort, 100)"
   ]
  },
  {
   "cell_type": "markdown",
   "metadata": {
    "id": "IFrOCtsGYI9L"
   },
   "source": [
    "# Юнит тесты"
   ]
  },
  {
   "cell_type": "code",
   "execution_count": 17,
   "metadata": {
    "id": "WerEDsxjE6Am"
   },
   "outputs": [],
   "source": [
    "def bridges_unit_test(G):\n",
    "  test_bridges_determ = compute_bridges_determ(nx.convert.to_dict_of_lists(G))\n",
    "  test_bridges_rand = compute_bridges_rand(nx.convert.to_dict_of_lists(G))\n",
    "  true_bridges = set(nx.algorithms.bridges(nx.Graph(G)))\n",
    "  determ_diff = list(true_bridges.symmetric_difference(test_bridges_determ))\n",
    "  rand_diff = list(true_bridges.symmetric_difference(test_bridges_rand))\n",
    "  assert len(determ_diff) == 0\n",
    "  assert len(rand_diff) == 0"
   ]
  },
  {
   "cell_type": "code",
   "execution_count": 18,
   "metadata": {
    "id": "dqHC-TYKMWZ-"
   },
   "outputs": [],
   "source": [
    "def two_bridges_unit_test(G, sort_fun):\n",
    "  test_bridges = compute_2bridges_rand(nx.convert.to_dict_of_lists(G), sort_fun)\n",
    "  for edge_group in test_bridges:\n",
    "      for e1 in range(len(edge_group)):\n",
    "        for e2 in range(e1+1,len(edge_group)):\n",
    "          G_with_deleted_2bridge = G.copy()\n",
    "          G_with_deleted_2bridge.remove_edge(*edge_group[e1])\n",
    "          G_with_deleted_2bridge.remove_edge(*edge_group[e2])\n",
    "          assert nx.connected.number_connected_components(G) < nx.connected.number_connected_components(G_with_deleted_2bridge)"
   ]
  },
  {
   "cell_type": "code",
   "execution_count": 19,
   "metadata": {
    "colab": {
     "base_uri": "https://localhost:8080/",
     "height": 86
    },
    "id": "WRb-MJf9b0p6",
    "outputId": "b4a5c16a-966d-4381-8522-0b338596ca1c"
   },
   "outputs": [
    {
     "name": "stdout",
     "output_type": "stream",
     "text": [
      "Все юнит тесты для поиска мостов пройдены успешно!\n",
      "Все юнит тесты для поиска 2-мостов пройдены успешно!\n"
     ]
    }
   ],
   "source": [
    "bridges_unit_test(nx.generators.cycle_graph(10))\n",
    "bridges_unit_test(nx.generators.path_graph(10))\n",
    "bridges_unit_test(nx.generators.empty_graph(10))\n",
    "bridges_unit_test(nx.generators.wheel_graph(10))\n",
    "bridges_unit_test(nx.generators.trivial_graph())\n",
    "bridges_unit_test(nx.generators.balanced_tree(3,3))\n",
    "print(\"Все юнит тесты для поиска мостов пройдены успешно!\")\n",
    "\n",
    "sort_functions = [radix_argsort, bucket_argsort, quick_argsort]\n",
    "for sort_fun in sort_functions:\n",
    "  two_bridges_unit_test(nx.generators.cycle_graph(10), sort_fun)\n",
    "  two_bridges_unit_test(nx.generators.path_graph(10), sort_fun)\n",
    "  two_bridges_unit_test(nx.generators.empty_graph(10), sort_fun)\n",
    "  two_bridges_unit_test(nx.generators.wheel_graph(10), sort_fun)\n",
    "  two_bridges_unit_test(nx.generators.trivial_graph(), sort_fun)\n",
    "  two_bridges_unit_test(nx.generators.balanced_tree(3,3), sort_fun)\n",
    "print(\"Все юнит тесты для поиска 2-мостов пройдены успешно!\")"
   ]
  },
  {
   "cell_type": "markdown",
   "metadata": {
    "id": "OaHIW1b_ad02"
   },
   "source": [
    "# Графики"
   ]
  },
  {
   "cell_type": "code",
   "execution_count": 20,
   "metadata": {
    "id": "Wu6eiPL1dZt1"
   },
   "outputs": [],
   "source": [
    "def check_time(f, *args):\n",
    "    start = timer()\n",
    "    f(*args)\n",
    "    return timer() - start"
   ]
  },
  {
   "cell_type": "code",
   "execution_count": 21,
   "metadata": {
    "id": "QT3suSXzXIcR"
   },
   "outputs": [],
   "source": [
    "def plot_bridges(m_fun, start = 200, step = 200, end = 10000, number_of_retryes = 10):\n",
    "  _x, determ_Gnp_y, determ_Gnm_y, rand_Gnp_y, rand_Gnm_y = [], [], [], [], []\n",
    "  for n in range(start,end,step):\n",
    "    m = m_fun(n)\n",
    "    time_Gnp_determ = 0.\n",
    "    time_Gnp_rand = 0.\n",
    "    time_Gnm_determ = 0.\n",
    "    time_Gnm_rand = 0.\n",
    "    for exp_num in range(number_of_retryes):\n",
    "      g = get_random_simple_Gnp_graph(n,m,exp_num)\n",
    "      time_Gnp_determ += check_time(compute_bridges_determ, g)\n",
    "      time_Gnp_rand += check_time(compute_bridges_rand, g)\n",
    "      g = get_random_simple_Gnm_graph(n,m,exp_num)\n",
    "      time_Gnm_determ += check_time(compute_bridges_determ, g)\n",
    "      time_Gnm_rand += check_time(compute_bridges_rand, g)\n",
    "    time_Gnp_determ /= number_of_retryes\n",
    "    time_Gnp_rand /= number_of_retryes\n",
    "    time_Gnm_determ /= number_of_retryes\n",
    "    time_Gnm_rand /= number_of_retryes\n",
    "    _x.append(n)\n",
    "    determ_Gnp_y.append(time_Gnp_determ)\n",
    "    rand_Gnp_y.append(time_Gnp_rand)\n",
    "    determ_Gnm_y.append(time_Gnm_determ)\n",
    "    rand_Gnm_y.append(time_Gnm_rand)\n",
    "\n",
    "  plt.plot(_x, determ_Gnp_y, label = \"determ Gnp\")\n",
    "  plt.plot(_x, rand_Gnp_y, label = \"rand Gnp\")\n",
    "  plt.plot(_x, determ_Gnm_y, label = \"determ Gnm\")\n",
    "  plt.plot(_x, rand_Gnm_y, label = \"rand Gnm\")\n",
    "  plt.legend(bbox_to_anchor=(1.05, 1), loc='upper left', borderaxespad=0.)\n",
    "  plt.xlabel('number of vertices')\n",
    "  plt.ylabel('time s.')\n",
    "  plt.title(f\"Эксперименты с мостами, start: {start}, step: {step}, end: {end},\\n \\\n",
    "  number of retryes: {number_of_retryes}, edges density: {n/m}\")\n",
    "  #plt.figure(figsize= (1000,1000))\n",
    "  plt.show()"
   ]
  },
  {
   "cell_type": "code",
   "execution_count": 22,
   "metadata": {
    "id": "ph0V_04lfXNi"
   },
   "outputs": [],
   "source": [
    "def plot_2bridges(m_fun, start = 200, step = 200, end = 10000, number_of_retryes = 10):\n",
    "  _x = []\n",
    "  quick_Gnp, radix_Gnp, bucket_Gnp, standard_Gnp = [], [], [], []\n",
    "  quick_Gnm, radix_Gnm, bucket_Gnm, standard_Gnm = [], [], [], []\n",
    "\n",
    "  for n in range(start,end,step):\n",
    "    m = m_fun(n)\n",
    "    time_quick_Gnp, time_radix_Gnp, time_bucket_Gnp, time_standard_Gnp = 0., 0., 0., 0.\n",
    "    time_quick_Gnm, time_radix_Gnm, time_bucket_Gnm, time_standard_Gnm = 0., 0., 0., 0.\n",
    "\n",
    "    for exp_num in range(number_of_retryes):\n",
    "      g = get_random_simple_Gnp_graph(n,m,exp_num)\n",
    "      time_quick_Gnp += check_time(compute_2bridges_rand,g,quick_argsort)\n",
    "      time_bucket_Gnp += check_time(compute_2bridges_rand,g,bucket_argsort)\n",
    "      time_radix_Gnp += check_time(compute_2bridges_rand,g,radix_argsort)\n",
    "      time_standard_Gnp += check_time(compute_2bridges_rand,g,np.argsort)\n",
    "\n",
    "      g = get_random_simple_Gnm_graph(n,m,exp_num)\n",
    "      time_quick_Gnm += check_time(compute_2bridges_rand,g,quick_argsort)\n",
    "      time_bucket_Gnm += check_time(compute_2bridges_rand,g,bucket_argsort)\n",
    "      time_radix_Gnm += check_time(compute_2bridges_rand,g,radix_argsort)\n",
    "      time_standard_Gnm += check_time(compute_2bridges_rand,g,np.argsort)\n",
    "\n",
    "    time_quick_Gnp /= number_of_retryes\n",
    "    time_bucket_Gnp /= number_of_retryes\n",
    "    time_radix_Gnp /= number_of_retryes\n",
    "    time_standard_Gnp /= number_of_retryes\n",
    "\n",
    "    time_quick_Gnm /= number_of_retryes\n",
    "    time_bucket_Gnm /= number_of_retryes\n",
    "    time_radix_Gnm /= number_of_retryes\n",
    "    time_standard_Gnm /= number_of_retryes\n",
    "\n",
    "    _x.append(n)\n",
    "\n",
    "    quick_Gnp.append(time_quick_Gnp)\n",
    "    bucket_Gnp.append(time_bucket_Gnp)\n",
    "    radix_Gnp.append(time_radix_Gnp)\n",
    "    standard_Gnp.append(time_standard_Gnp)\n",
    "\n",
    "    quick_Gnm.append(time_quick_Gnm)\n",
    "    bucket_Gnm.append(time_bucket_Gnm)\n",
    "    radix_Gnm.append(time_radix_Gnm)\n",
    "    standard_Gnm.append(time_standard_Gnm)\n",
    "\n",
    "  plt.plot(_x, quick_Gnp, label = \"quick Gnp\")\n",
    "  plt.plot(_x, bucket_Gnp, label = \"bucket Gnp\")\n",
    "  plt.plot(_x, radix_Gnp, label = \"radix Gnp\")\n",
    "  plt.plot(_x, standard_Gnp, label = \"standard Gnp\")\n",
    "\n",
    "  plt.plot(_x, quick_Gnm, label = \"quick Gnm\")\n",
    "  plt.plot(_x, bucket_Gnm, label = \"bucket Gnm\")\n",
    "  plt.plot(_x, radix_Gnm, label = \"radix Gnm\")\n",
    "  plt.plot(_x, standard_Gnm, label = \"standard Gnm\")\n",
    "\n",
    "  plt.legend(bbox_to_anchor=(1.05, 1), loc='upper left', borderaxespad=0.)\n",
    "  plt.xlabel('number of vertices')\n",
    "  plt.ylabel('time s.')\n",
    "  plt.title(f\"Эксперименты с 2-мостами, start: {start}, step: {step}, end: {end},\\n \\\n",
    "  number of retryes: {number_of_retryes}, edges density: {n/m}\")\n",
    "  #plt.figure(figsize= (100000,100000))\n",
    "  plt.show()"
   ]
  },
  {
   "cell_type": "code",
   "execution_count": 23,
   "metadata": {
    "colab": {
     "base_uri": "https://localhost:8080/",
     "height": 327
    },
    "id": "s1qohsHKgPOy",
    "outputId": "4ae95d40-a097-4dfc-9b59-8733c2a0acd5"
   },
   "outputs": [
    {
     "data": {
      "image/png": "[encoded data removed]",
      "text/plain": [
       "<Figure size 432x288 with 1 Axes>"
      ]
     },
     "metadata": {
      "needs_background": "light"
     },
     "output_type": "display_data"
    },
    {
     "name": "stdout",
     "output_type": "stream",
     "text": [
      "Total time: 724.6639986530063\n"
     ]
    }
   ],
   "source": [
    "print(f\"Total time: {check_time(plot_bridges, lambda n: 10*n)}\")"
   ]
  },
  {
   "cell_type": "code",
   "execution_count": 24,
   "metadata": {
    "colab": {
     "base_uri": "https://localhost:8080/",
     "height": 327
    },
    "id": "76072Rr5oKlC",
    "outputId": "67f5a90b-5c23-4105-f472-c7f1c23959c5"
   },
   "outputs": [
    {
     "data": {
      "image/png": "[encoded data removed]",
      "text/plain": [
       "<Figure size 432x288 with 1 Axes>"
      ]
     },
     "metadata": {
      "needs_background": "light"
     },
     "output_type": "display_data"
    },
    {
     "name": "stdout",
     "output_type": "stream",
     "text": [
      "Total time: 263.4828594610444\n"
     ]
    }
   ],
   "source": [
    "print(f\"Total time: {check_time(plot_2bridges, lambda n: n)}\")"
   ]
  },
  {
   "cell_type": "code",
   "execution_count": null,
   "metadata": {},
   "outputs": [],
   "source": []
  }
 ],
 "metadata": {
  "colab": {
   "collapsed_sections": [],
   "name": "HSE_opt_lab1.ipynb",
   "provenance": []
  },
  "kernelspec": {
   "display_name": "Python 3 (ipykernel)",
   "language": "python",
   "name": "python3"
  },
  "language_info": {
   "codemirror_mode": {
    "name": "ipython",
    "version": 3
   },
   "file_extension": ".py",
   "mimetype": "text/x-python",
   "name": "python",
   "nbconvert_exporter": "python",
   "pygments_lexer": "ipython3",
   "version": "3.9.9"
  }
 },
 "nbformat": 4,
 "nbformat_minor": 1
}
