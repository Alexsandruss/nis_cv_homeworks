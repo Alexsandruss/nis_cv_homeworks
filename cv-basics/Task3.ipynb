{
 "cells": [
  {
   "cell_type": "code",
   "execution_count": 1,
   "id": "8f03a4cd",
   "metadata": {},
   "outputs": [],
   "source": [
    "import numpy as np\n",
    "import cv2\n",
    "from IPython.display import Image"
   ]
  },
  {
   "cell_type": "markdown",
   "id": "4caa03c2",
   "metadata": {},
   "source": [
    "## Задача\n",
    "\n",
    "Вход: цветное изображение.\n",
    "\n",
    "Cвертка с 5 фильтрами 3x3x3 (случайные числа), потом нормализация (коэфициенты и смещение произвольные), потом  ReLU, потом MAX POOLING (2x2), потом попиксельный SoftMax.\n",
    "\n",
    "Выход: пять каналов"
   ]
  },
  {
   "cell_type": "markdown",
   "id": "eace6e6f",
   "metadata": {},
   "source": [
    "## Convolution"
   ]
  },
  {
   "cell_type": "code",
   "execution_count": 2,
   "id": "fa494b3a",
   "metadata": {},
   "outputs": [],
   "source": [
    "def relu_activation_func(input_value):\n",
    "    return max([0, input_value])\n",
    "\n",
    "\n",
    "def convolution(image, n_filters, filter_size):\n",
    "    filter_offset = filter_size // 2\n",
    "    output_shape = (image.shape[0] - filter_size + 1, image.shape[1] - filter_size + 1, n_filters)\n",
    "\n",
    "    new_images = [np.empty(shape=output_shape[:2], dtype=np.float64) for i in range(n_filters)]\n",
    "    filters = [np.random.uniform(size=(filter_size, filter_size, 3)).astype(np.float64) for i in range(n_filters)]\n",
    "\n",
    "    print(f'Convolution:')\n",
    "    print(f'\\tInput shape:{image.shape}')\n",
    "    print(f'\\tFilters: {n_filters} of {filters[0].shape} shape')\n",
    "    print(f'\\tOutput shape:{output_shape}')\n",
    "\n",
    "    for new_image, filter in zip(new_images, filters):\n",
    "        for iR in range(filter_offset, image.shape[0] - filter_offset):\n",
    "            for iC in range(filter_offset, image.shape[1] - filter_offset):\n",
    "                new_image[iR - filter_offset][iC - filter_offset] = relu_activation_func(\n",
    "                    (image[iR - filter_offset:iR + filter_offset + 1, iC - filter_offset:iC + filter_offset + 1,:].ravel() * filter.ravel()).sum()\n",
    "                )\n",
    "    return np.array([new_images]).reshape(output_shape)"
   ]
  },
  {
   "cell_type": "markdown",
   "id": "767b13a7",
   "metadata": {},
   "source": [
    "## Normalization"
   ]
  },
  {
   "cell_type": "code",
   "execution_count": 3,
   "id": "3505ab58",
   "metadata": {},
   "outputs": [],
   "source": [
    "def normalization(image):\n",
    "    print(f'Normalization:')\n",
    "    print(f'\\tShape:{image.shape}')\n",
    "\n",
    "    n_channels = image.shape[2]\n",
    "    centers = np.mean(image, axis=(0, 1))\n",
    "    scales = np.std(image, axis=(0, 1))\n",
    "\n",
    "    for i in range(n_channels):\n",
    "        image[:,:,i] = (image[:,:,i] - centers[i]) / scales[i]\n",
    "    return image"
   ]
  },
  {
   "cell_type": "markdown",
   "id": "78e1d722",
   "metadata": {},
   "source": [
    "## ReLU"
   ]
  },
  {
   "cell_type": "code",
   "execution_count": 4,
   "id": "9cc36f65",
   "metadata": {},
   "outputs": [],
   "source": [
    "def relu_activation(image):\n",
    "    print(f'ReLU Activation:')\n",
    "    print(f'\\tShape:{image.shape}')\n",
    "    zeros = np.zeros(shape=image.shape, dtype=image.dtype)\n",
    "    return np.max([zeros, image], axis=0)"
   ]
  },
  {
   "cell_type": "markdown",
   "id": "cb58010f",
   "metadata": {},
   "source": [
    "## Max pooling"
   ]
  },
  {
   "cell_type": "code",
   "execution_count": 5,
   "id": "88d952b4",
   "metadata": {},
   "outputs": [],
   "source": [
    "def max_pooling(image, filter_size):\n",
    "    n_channels = image.shape[2]\n",
    "    output_shape = (image.shape[0] // filter_size, image.shape[1] // filter_size, n_channels)\n",
    "    new_image = np.empty(shape=output_shape)\n",
    "    for k in range(n_channels):\n",
    "        for iR in range(output_shape[0]):\n",
    "            for iC in range(output_shape[1]):\n",
    "                new_image[iR][iC][k] = image[iR * filter_size:(iR + 1) * filter_size,iC * filter_size:(iC + 1) * filter_size,k].max()\n",
    "    print(f'Max Pooling:')\n",
    "    print(f'\\tInput shape:{image.shape}')\n",
    "    print(f'\\tFilter size: {filter_size}')\n",
    "    print(f'\\tOutput shape:{output_shape}')\n",
    "    return new_image"
   ]
  },
  {
   "cell_type": "markdown",
   "id": "5254dfcc",
   "metadata": {},
   "source": [
    "## Linear"
   ]
  },
  {
   "cell_type": "code",
   "execution_count": 6,
   "id": "1869cd55",
   "metadata": {},
   "outputs": [],
   "source": [
    "def linear(image, output_size):\n",
    "    flat_image = image.ravel()\n",
    "    weights = np.random.uniform(size=(flat_image.shape[0], output_size))\n",
    "    output = np.empty(shape=(output_size, ), dtype=image.dtype)\n",
    "    for i in range(output_size):\n",
    "        output[i] = (flat_image * weights[:,i]).sum()\n",
    "    print(f'Linear:')\n",
    "    print(f'\\tInput shape:{image.shape}')\n",
    "    print(f'\\tOutput shape:{output.shape}')\n",
    "    return output"
   ]
  },
  {
   "cell_type": "markdown",
   "id": "2442aff8",
   "metadata": {},
   "source": [
    "## SoftMax"
   ]
  },
  {
   "cell_type": "code",
   "execution_count": 7,
   "id": "1c3049d9",
   "metadata": {},
   "outputs": [],
   "source": [
    "def softmax(image):\n",
    "    if image.ndim == 1:\n",
    "        print(f'Softmax:')\n",
    "        print(f'\\tShape:{image.shape}')\n",
    "        return np.exp(image)/sum(np.exp(image))\n",
    "    n_channels = image.shape[2]\n",
    "    output_shape = (image.shape[0] * image.shape[1], n_channels)\n",
    "    new_image = np.empty(shape=output_shape)\n",
    "    for i in range(n_channels):\n",
    "        new_image[:,i] = np.exp(image[:,:,i].ravel())/sum(np.exp(image[:,:,i].ravel()))\n",
    "    print(f'Softmax:')\n",
    "    print(f'\\tInput shape:{image.shape}')\n",
    "    print(f'\\tOutput shape:{output_shape}')\n",
    "    return new_image"
   ]
  },
  {
   "cell_type": "markdown",
   "id": "3ce93513",
   "metadata": {},
   "source": [
    "## Input image"
   ]
  },
  {
   "cell_type": "code",
   "execution_count": 8,
   "id": "d5e76c3d",
   "metadata": {},
   "outputs": [
    {
     "name": "stdout",
     "output_type": "stream",
     "text": [
      "Input image shape: (256, 256, 3)\n"
     ]
    },
    {
     "data": {
      "image/jpeg": "[encoded data removed]",
      "text/plain": [
       "<IPython.core.display.Image object>"
      ]
     },
     "execution_count": 8,
     "metadata": {},
     "output_type": "execute_result"
    }
   ],
   "source": [
    "np.random.seed(777)\n",
    "# image = np.random.uniform(size=(28, 28, 3)).astype(np.float64)\n",
    "image = cv2.imread('floppa.jpg', cv2.IMREAD_COLOR).astype(np.float64)\n",
    "print('Input image shape:', image.shape)\n",
    "Image('floppa.jpg')"
   ]
  },
  {
   "cell_type": "markdown",
   "id": "cf873c1f",
   "metadata": {},
   "source": [
    "## Result"
   ]
  },
  {
   "cell_type": "code",
   "execution_count": 9,
   "id": "994bb55d",
   "metadata": {},
   "outputs": [
    {
     "name": "stdout",
     "output_type": "stream",
     "text": [
      "Convolution:\n",
      "\tInput shape:(256, 256, 3)\n",
      "\tFilters: 5 of (3, 3, 3) shape\n",
      "\tOutput shape:(254, 254, 5)\n",
      "Normalization:\n",
      "\tShape:(254, 254, 5)\n",
      "ReLU Activation:\n",
      "\tShape:(254, 254, 5)\n",
      "Max Pooling:\n",
      "\tInput shape:(254, 254, 5)\n",
      "\tFilter size: 2\n",
      "\tOutput shape:(127, 127, 5)\n",
      "Softmax:\n",
      "\tInput shape:(127, 127, 5)\n",
      "\tOutput shape:(16129, 5)\n",
      "Result channels:\n",
      "[[1.67937742e-04 1.56506936e-04 1.41678125e-04 1.24583441e-04\n",
      "  1.14956862e-04]\n",
      " [1.09621970e-04 1.15585670e-04 1.29785512e-04 1.42235571e-04\n",
      "  1.19926577e-04]\n",
      " [8.27194684e-05 8.27202537e-05 1.09736502e-04 1.29786878e-04\n",
      "  1.08571455e-04]\n",
      " ...\n",
      " [2.70346119e-05 2.69832222e-05 2.70263049e-05 2.69776004e-05\n",
      "  2.70284516e-05]\n",
      " [2.70346119e-05 2.69832222e-05 2.70263049e-05 2.69776004e-05\n",
      "  2.70284516e-05]\n",
      " [2.70346119e-05 2.69832222e-05 2.70263049e-05 2.69776004e-05\n",
      "  2.70284516e-05]]\n"
     ]
    }
   ],
   "source": [
    "image = convolution(image, n_filters=5, filter_size=3)\n",
    "image = normalization(image)\n",
    "image = relu_activation(image)\n",
    "image = max_pooling(image, filter_size=2)\n",
    "# image = linear(image, 5) # for backup, not mentioned in task\n",
    "image = softmax(image)\n",
    "print('Result channels:', image, sep='\\n')"
   ]
  }
 ],
 "metadata": {
  "kernelspec": {
   "display_name": "Python 3 (ipykernel)",
   "language": "python",
   "name": "python3"
  },
  "language_info": {
   "codemirror_mode": {
    "name": "ipython",
    "version": 3
   },
   "file_extension": ".py",
   "mimetype": "text/x-python",
   "name": "python",
   "nbconvert_exporter": "python",
   "pygments_lexer": "ipython3",
   "version": "3.8.10"
  }
 },
 "nbformat": 4,
 "nbformat_minor": 5
}
