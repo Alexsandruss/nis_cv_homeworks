{
 "cells": [
  {
   "cell_type": "code",
   "execution_count": 1,
   "id": "25637d84",
   "metadata": {},
   "outputs": [],
   "source": [
    "import numpy as np\n",
    "import math"
   ]
  },
  {
   "cell_type": "markdown",
   "id": "9d8ceec1",
   "metadata": {},
   "source": [
    "## 1\n",
    "\n",
    "Система координат камеры получается из мировой поворотом на 45\n",
    "градусов вокруг оси z и трансляцией на 10 вдоль оси z. Внутренние параметры\n",
    "камеры: fx=fy=400, cx=960, cy=540. Написать программу, которая выводит на экран\n",
    "матрицу проекции камеры и целочисленные координаты пикселя на изображении,\n",
    "соответствующего трехмерной точке с координатами (10, -10, 100) в мировой\n",
    "системе координат."
   ]
  },
  {
   "cell_type": "code",
   "execution_count": 2,
   "id": "7e5849f7",
   "metadata": {},
   "outputs": [],
   "source": [
    "fxy = 400\n",
    "cx = 960\n",
    "cy = 540\n",
    "\n",
    "K = np.array([\n",
    "    [fxy, 0, cx],\n",
    "    [0, fxy, cy],\n",
    "    [0, 0, 1]\n",
    "])\n",
    "\n",
    "alpha = 45 * math.pi / 180\n",
    "sin_a = math.sin(alpha)\n",
    "cos_a = math.cos(alpha)\n",
    "\n",
    "R_T = np.array([\n",
    "    [cos_a, -sin_a, 0, 0],\n",
    "    [sin_a, cos_a, 0, 0],\n",
    "    [0, 0, 1, 10]\n",
    "])"
   ]
  },
  {
   "cell_type": "code",
   "execution_count": 3,
   "id": "23c8531b",
   "metadata": {},
   "outputs": [
    {
     "name": "stdout",
     "output_type": "stream",
     "text": [
      "Pixel coordinates\n",
      "u:\n",
      "1011\n",
      "v:\n",
      "540\n"
     ]
    }
   ],
   "source": [
    "world_point = np.array([10, -10, 100, 1])\n",
    "\n",
    "uv1 = np.matmul(K, np.matmul(R_T, world_point))\n",
    "uv1 /= uv1[2]\n",
    "print('Pixel coordinates', 'u:', round(uv1[0]), 'v:', round(uv1[1]), sep='\\n')"
   ]
  },
  {
   "cell_type": "markdown",
   "id": "d2437ac4",
   "metadata": {},
   "source": [
    "## 2\n",
    "\n",
    "Используя прямое линейное преобразование (direct linear\n",
    "transformation) и SVD, написать программу, которая принимает на вход множество\n",
    "пар двумерных точек, и выводит на экран соответствующую этим парам матрицу\n",
    "гомографии."
   ]
  },
  {
   "cell_type": "code",
   "execution_count": 4,
   "id": "b7a738b9",
   "metadata": {},
   "outputs": [],
   "source": [
    "def generate_equations_for_points(points1, points2):\n",
    "    a = np.zeros(shape=(points1.shape[0] * 2, 9), dtype=np.float64)\n",
    "    i = 0\n",
    "    for p1, p2 in zip(points1, points2):\n",
    "        u1, v1 = p1\n",
    "        u2, v2 = p2\n",
    "        a[i] = np.array([-u1, -v1, -1, 0, 0, 0, u1 * u2, v1 * u2, u2], dtype=np.float64)\n",
    "        a[i + 1] = np.array([0, 0, 0, -u1, -v1, -1, u1 * v2, v1 * v2, v1], dtype=np.float64)\n",
    "        i += 2\n",
    "    return a\n",
    "\n",
    "\n",
    "def svd_solve(a):\n",
    "    u, d, vt = np.linalg.svd(a)\n",
    "\n",
    "    threshold = 1e-15\n",
    "    for eigenvalue, right_vector in zip(d, vt.T):\n",
    "        if eigenvalue > -threshold and eigenvalue < threshold:\n",
    "            return right_vector"
   ]
  },
  {
   "cell_type": "code",
   "execution_count": 5,
   "id": "5e69af9a",
   "metadata": {},
   "outputs": [
    {
     "name": "stdout",
     "output_type": "stream",
     "text": [
      "Equation coeffs:\n",
      " [[ 0.   0.  -1.   0.   0.   0.   0.   0.   0. ]\n",
      " [ 0.   0.   0.   0.   0.  -1.   0.   0.   0. ]\n",
      " [-4.  -4.  -1.   0.   0.   0.   8.   8.   2. ]\n",
      " [ 0.   0.   0.  -4.  -4.  -1.   8.   8.   4. ]\n",
      " [-4.   0.  -1.   0.   0.   0.   8.   0.   2. ]\n",
      " [ 0.   0.   0.  -4.   0.  -1.   0.   0.   0. ]\n",
      " [ 0.  -4.  -1.   0.   0.   0.   0.   0.   0. ]\n",
      " [ 0.   0.   0.   0.  -4.  -1.   0.   8.   4. ]\n",
      " [-2.  -2.  -1.   0.   0.   0.   2.   2.   1. ]\n",
      " [ 0.   0.   0.  -2.  -2.  -1.   2.   2.   2. ]\n",
      " [-1.  -3.  -1.   0.   0.   0.   0.5  1.5  0.5]\n",
      " [ 0.   0.   0.  -1.  -3.  -1.   1.5  4.5  3. ]]\n",
      "Solution (H):\n",
      " [[ 0.3175196  -0.19776827 -0.07852322]\n",
      " [-0.14550545  0.56760999  0.09728233]\n",
      " [ 0.01500594 -0.23752201  0.66666667]]\n"
     ]
    }
   ],
   "source": [
    "old_points = np.array([\n",
    "    [0, 0],\n",
    "    [4, 4],\n",
    "    [4, 0],\n",
    "    [0, 4],\n",
    "    [2, 2],\n",
    "    [1, 3]\n",
    "])\n",
    "\n",
    "new_points = old_points / 2\n",
    "\n",
    "a = generate_equations_for_points(old_points, new_points)\n",
    "print('Equation coeffs:\\n', a)\n",
    "\n",
    "solution = svd_solve(a).reshape(3, 3)\n",
    "\n",
    "print('Solution (H):\\n', solution)"
   ]
  },
  {
   "cell_type": "code",
   "execution_count": null,
   "id": "82541eca",
   "metadata": {},
   "outputs": [],
   "source": []
  }
 ],
 "metadata": {
  "kernelspec": {
   "display_name": "Python 3 (ipykernel)",
   "language": "python",
   "name": "python3"
  },
  "language_info": {
   "codemirror_mode": {
    "name": "ipython",
    "version": 3
   },
   "file_extension": ".py",
   "mimetype": "text/x-python",
   "name": "python",
   "nbconvert_exporter": "python",
   "pygments_lexer": "ipython3",
   "version": "3.8.10"
  }
 },
 "nbformat": 4,
 "nbformat_minor": 5
}
