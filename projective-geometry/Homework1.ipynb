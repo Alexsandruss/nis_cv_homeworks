{
 "cells": [
  {
   "cell_type": "code",
   "execution_count": 1,
   "id": "5da9315a",
   "metadata": {},
   "outputs": [],
   "source": [
    "import numpy as np\n",
    "import math"
   ]
  },
  {
   "cell_type": "markdown",
   "id": "1ffc3161",
   "metadata": {},
   "source": [
    "## 1\n",
    "\n",
    "Найти ближайшую ортогональную матрицу (в смысле нормы Фробениуса) к матрице. Вывести результат в консоль и, посмотрев на него, найти соответствующие этому преобразованию угол и направление поворота."
   ]
  },
  {
   "cell_type": "code",
   "execution_count": 2,
   "id": "15dd77a2",
   "metadata": {},
   "outputs": [
    {
     "name": "stdout",
     "output_type": "stream",
     "text": [
      "A:\n",
      "[[ 0.5         2.16506351  0.4330127 ]\n",
      " [-0.8660254   1.25        0.25      ]\n",
      " [ 0.          0.5         2.5       ]]\n",
      "\n",
      "\n",
      "Nearest orthogonal:\n",
      "[[ 5.00000000e-01  8.66025404e-01 -3.87999547e-10]\n",
      " [-8.66025404e-01  5.00000000e-01  1.65510349e-11]\n",
      " [ 2.08333332e-10  3.27741999e-10  1.00000000e+00]]\n"
     ]
    }
   ],
   "source": [
    "a = np.array([\n",
    "    [0.5, 2.16506351, 0.4330127],\n",
    "    [-0.8660254, 1.25, 0.25],\n",
    "    [0.0, 0.5, 2.5]\n",
    "])\n",
    "u, d, vt = np.linalg.svd(a)\n",
    "result = np.matmul(u, vt)\n",
    "print('A:', a, '\\n','Nearest orthogonal:', result, sep='\\n')"
   ]
  },
  {
   "cell_type": "code",
   "execution_count": 3,
   "id": "87b0fc3e",
   "metadata": {},
   "outputs": [
    {
     "name": "stdout",
     "output_type": "stream",
     "text": [
      "59.99999997514016 degrees rotation around `z` axis\n"
     ]
    }
   ],
   "source": [
    "def find_angle_and_rotation_axis(rotation):\n",
    "    if np.allclose(rotation[0][0], [1.0]):\n",
    "        axis = 'x'\n",
    "        cos_a = rotation[1][1]\n",
    "    elif np.allclose(rotation[1][1], [1.0]):\n",
    "        axis = 'y'\n",
    "        cos_a = rotation[0][0]\n",
    "    elif np.allclose(rotation[2][2], [1.0]):\n",
    "        axis = 'z'\n",
    "        cos_a = rotation[0][0]\n",
    "    else:\n",
    "        raise ValueError('not a rotation matrix')\n",
    "    \n",
    "    alpha = np.arccos(cos_a) * 180 / math.pi\n",
    "    print(f'{alpha} degrees rotation around `{axis}` axis')\n",
    "    \n",
    "\n",
    "find_angle_and_rotation_axis(result)"
   ]
  },
  {
   "cell_type": "markdown",
   "id": "6fd8a3cc",
   "metadata": {},
   "source": [
    "## 2\n",
    "\n",
    "При помощи SVD найти обратную матрицу к квадратной матрице nxn, состоящей из элементов Aij = 1/(i +j - 1) для размеров матрицы n=3 и n=10"
   ]
  },
  {
   "cell_type": "code",
   "execution_count": 4,
   "id": "1a5eb37c",
   "metadata": {},
   "outputs": [
    {
     "name": "stdout",
     "output_type": "stream",
     "text": [
      "A:\n",
      "[[-1.          0.          1.        ]\n",
      " [ 0.          1.          0.5       ]\n",
      " [ 1.          0.5         0.33333333]]\n",
      "\n",
      "A -1:\n",
      "[[-0.07692308 -0.46153846  0.92307692]\n",
      " [-0.46153846  1.23076923 -0.46153846]\n",
      " [ 0.92307692 -0.46153846  0.92307692]]\n",
      "\n",
      "\n",
      "A:\n",
      "[[-1.          0.          1.          0.5         0.33333333  0.25\n",
      "   0.2         0.16666667  0.14285714  0.125     ]\n",
      " [ 0.          1.          0.5         0.33333333  0.25        0.2\n",
      "   0.16666667  0.14285714  0.125       0.11111111]\n",
      " [ 1.          0.5         0.33333333  0.25        0.2         0.16666667\n",
      "   0.14285714  0.125       0.11111111  0.1       ]\n",
      " [ 0.5         0.33333333  0.25        0.2         0.16666667  0.14285714\n",
      "   0.125       0.11111111  0.1         0.09090909]\n",
      " [ 0.33333333  0.25        0.2         0.16666667  0.14285714  0.125\n",
      "   0.11111111  0.1         0.09090909  0.08333333]\n",
      " [ 0.25        0.2         0.16666667  0.14285714  0.125       0.11111111\n",
      "   0.1         0.09090909  0.08333333  0.07692308]\n",
      " [ 0.2         0.16666667  0.14285714  0.125       0.11111111  0.1\n",
      "   0.09090909  0.08333333  0.07692308  0.07142857]\n",
      " [ 0.16666667  0.14285714  0.125       0.11111111  0.1         0.09090909\n",
      "   0.08333333  0.07692308  0.07142857  0.06666667]\n",
      " [ 0.14285714  0.125       0.11111111  0.1         0.09090909  0.08333333\n",
      "   0.07692308  0.07142857  0.06666667  0.0625    ]\n",
      " [ 0.125       0.11111111  0.1         0.09090909  0.08333333  0.07692308\n",
      "   0.07142857  0.06666667  0.0625      0.05882353]]\n",
      "\n",
      "A -1:\n",
      "[[-5.69617993e-04 -2.09786155e-01  9.31422464e+00 -1.23479974e+02\n",
      "   7.52722059e+02 -2.46943890e+03  4.63835612e+03 -4.99165966e+03\n",
      "   2.86180221e+03 -6.77434169e+02]\n",
      " [-2.09786156e-01  3.73726139e+00  1.90362987e+02 -3.89680838e+03\n",
      "   2.77422978e+04 -9.86672855e+04  1.94762700e+05 -2.16774138e+05\n",
      "   1.27342285e+05 -3.07044133e+04]\n",
      " [ 9.31422450e+00  1.90362985e+02  2.04964168e+04 -4.75689566e+05\n",
      "   3.65841364e+06 -1.36743983e+07  2.79385127e+07 -3.18910945e+07\n",
      "   1.90989568e+07 -4.67565189e+06]\n",
      " [-1.23479969e+02 -3.89680829e+03 -4.75689561e+05  1.16522808e+07\n",
      "  -9.29597878e+07  3.56572694e+08 -7.42615788e+08  8.60261401e+08\n",
      "  -5.21246328e+08  1.28822934e+08]\n",
      " [ 7.52722015e+02  2.77422968e+04  3.65841358e+06 -9.29597870e+07\n",
      "   7.61651785e+08 -2.97998651e+09  6.30160146e+09 -7.38859756e+09\n",
      "   4.52095092e+09 -1.12642051e+09]\n",
      " [-2.46943871e+03 -9.86672809e+04 -1.36743979e+07  3.56572689e+08\n",
      "  -2.97998648e+09  1.18393433e+10 -2.53422423e+10  3.00084019e+10\n",
      "  -1.85121981e+10  4.64421176e+09]\n",
      " [ 4.63835568e+03  1.94762689e+05  2.79385117e+07 -7.42615772e+08\n",
      "   6.30160138e+09 -2.53422422e+10  5.47843595e+10 -6.54049120e+10\n",
      "   4.06272060e+10 -1.02523123e+10]\n",
      " [-4.99165911e+03 -2.16774124e+05 -3.18910932e+07  8.60261377e+08\n",
      "  -7.38859743e+09  3.00084016e+10 -6.54049117e+10  7.86244844e+10\n",
      "  -4.91267507e+10  1.24602374e+10]\n",
      " [ 2.86180186e+03  1.27342275e+05  1.90989559e+07 -5.21246311e+08\n",
      "   4.52095082e+09 -1.85121979e+10  4.06272056e+10 -4.91267505e+10\n",
      "   3.08519407e+10 -7.85981246e+09]\n",
      " [-6.77434077e+02 -3.07044108e+04 -4.67565166e+06  1.28822929e+08\n",
      "  -1.12642048e+09  4.64421168e+09 -1.02523121e+10  1.24602373e+10\n",
      "  -7.85981244e+09  2.01016517e+09]]\n",
      "\n",
      "\n"
     ]
    }
   ],
   "source": [
    "def generate_and_invert(n):\n",
    "    a = np.array([[1 / (i + j - 1) if i + j - 1 != 0 else 0 for j in range(n)] for i in range(n)], dtype=np.float64)\n",
    "    u, d, vt = np.linalg.svd(a)\n",
    "    d_inv = np.diag(d ** -1)\n",
    "    a_inv = np.matmul(np.matmul(vt.T, d_inv), u.T)\n",
    "    if not np.allclose(a_inv, np.linalg.inv(a)):\n",
    "        raise ValueError('Inverse matrix is not close to default implementation (np.linalg.inv)')\n",
    "    print('A:', a, '', 'A -1:', a_inv, '\\n', sep='\\n')\n",
    "\n",
    "generate_and_invert(n=3)\n",
    "generate_and_invert(n=10)"
   ]
  },
  {
   "cell_type": "markdown",
   "id": "6e3c6008",
   "metadata": {},
   "source": [
    "## 3\n",
    "\n",
    "Для квадратной матрицы nxn, состоящей из элементов Aij = i + j - 1, найти с использованием SVD все решения уравнений AX=0 для n=4"
   ]
  },
  {
   "cell_type": "code",
   "execution_count": 5,
   "id": "489e3cf5",
   "metadata": {},
   "outputs": [
    {
     "name": "stdout",
     "output_type": "stream",
     "text": [
      "A:\n",
      "[[-1.  0.  1.  2.]\n",
      " [ 0.  1.  2.  3.]\n",
      " [ 1.  2.  3.  4.]\n",
      " [ 2.  3.  4.  5.]]\n",
      "\n",
      "Solution: [ 5.47722558e-01 -1.52655666e-16 -7.47481003e-01 -3.75861876e-01]\n",
      "Solution: [ 0.73029674 -0.40824829  0.54719667 -0.02399583]\n"
     ]
    }
   ],
   "source": [
    "def generate_and_solve(n):\n",
    "    a = np.array([[i + j - 1 for j in range(n)] for i in range(n)], dtype=np.float64)\n",
    "    print('A:', a, '', sep='\\n')\n",
    "\n",
    "    u, d, vt = np.linalg.svd(a)\n",
    "\n",
    "    threshold = 1e-15\n",
    "    for eigenvalue, right_vector in zip(d, vt.T):\n",
    "        if eigenvalue > -threshold and eigenvalue < threshold:\n",
    "            print('Solution:', right_vector)\n",
    "\n",
    "generate_and_solve(4)"
   ]
  },
  {
   "cell_type": "code",
   "execution_count": null,
   "id": "da666594",
   "metadata": {},
   "outputs": [],
   "source": []
  }
 ],
 "metadata": {
  "kernelspec": {
   "display_name": "Python 3 (ipykernel)",
   "language": "python",
   "name": "python3"
  },
  "language_info": {
   "codemirror_mode": {
    "name": "ipython",
    "version": 3
   },
   "file_extension": ".py",
   "mimetype": "text/x-python",
   "name": "python",
   "nbconvert_exporter": "python",
   "pygments_lexer": "ipython3",
   "version": "3.8.10"
  }
 },
 "nbformat": 4,
 "nbformat_minor": 5
}
